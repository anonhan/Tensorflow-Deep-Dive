{
 "cells": [
  {
   "cell_type": "markdown",
   "metadata": {
    "id": "hEBcb9XY9UGG"
   },
   "source": [
    "## Understanding the fundamentals of TF"
   ]
  },
  {
   "cell_type": "markdown",
   "metadata": {
    "id": "TU6GIvkyvcOX"
   },
   "source": [
    "#### **1.Basics of TF**"
   ]
  },
  {
   "cell_type": "code",
   "execution_count": 1,
   "metadata": {
    "executionInfo": {
     "elapsed": 2956,
     "status": "ok",
     "timestamp": 1686390949033,
     "user": {
      "displayName": "Sahil Sharma",
      "userId": "07073771831471824950"
     },
     "user_tz": -330
    },
    "id": "xEByTiZI30tJ"
   },
   "outputs": [],
   "source": [
    "import tensorflow as tf\n",
    "import pandas as pd\n",
    "import numpy as np\n"
   ]
  },
  {
   "cell_type": "code",
   "execution_count": 2,
   "metadata": {
    "colab": {
     "base_uri": "https://localhost:8080/"
    },
    "executionInfo": {
     "elapsed": 1303,
     "status": "ok",
     "timestamp": 1686390968729,
     "user": {
      "displayName": "Sahil Sharma",
      "userId": "07073771831471824950"
     },
     "user_tz": -330
    },
    "id": "4Dzrj_E45AY9",
    "outputId": "bafb6e9b-8f45-485d-f1d8-30e71a62a3aa"
   },
   "outputs": [
    {
     "name": "stdout",
     "output_type": "stream",
     "text": [
      "tf.Tensor(91, shape=(), dtype=int8)\n"
     ]
    }
   ],
   "source": [
    "tensor_zero_d = tf.constant(10331,dtype='int8')\n",
    "print(tensor_zero_d)"
   ]
  },
  {
   "cell_type": "code",
   "execution_count": 3,
   "metadata": {
    "colab": {
     "base_uri": "https://localhost:8080/"
    },
    "executionInfo": {
     "elapsed": 21,
     "status": "ok",
     "timestamp": 1686390969255,
     "user": {
      "displayName": "Sahil Sharma",
      "userId": "07073771831471824950"
     },
     "user_tz": -330
    },
    "id": "bybcAEqU5zvH",
    "outputId": "d1953a24-65c0-4ef2-ebd0-8edb6a624660"
   },
   "outputs": [
    {
     "name": "stdout",
     "output_type": "stream",
     "text": [
      "tf.Tensor([  1.       2.      14.     123.1021 231.      21.    ], shape=(6,), dtype=float32)\n"
     ]
    }
   ],
   "source": [
    "tensor_one_d = tf.constant([1,2,14,123.1021,231,21])\n",
    "print(tensor_one_d)"
   ]
  },
  {
   "cell_type": "code",
   "execution_count": 4,
   "metadata": {
    "colab": {
     "base_uri": "https://localhost:8080/"
    },
    "executionInfo": {
     "elapsed": 20,
     "status": "ok",
     "timestamp": 1686390969255,
     "user": {
      "displayName": "Sahil Sharma",
      "userId": "07073771831471824950"
     },
     "user_tz": -330
    },
    "id": "nHt9N6N26Hdr",
    "outputId": "b8fd69bd-7633-45b2-cb69-b1f0eeb205d8"
   },
   "outputs": [
    {
     "data": {
      "text/plain": [
       "<tf.Tensor: shape=(3, 4), dtype=int32, numpy=\n",
       "array([[ 1,  2,  3, -4],\n",
       "       [ 1,  3,  1,  1],\n",
       "       [ 0,  3,  1,  0]], dtype=int32)>"
      ]
     },
     "execution_count": 4,
     "metadata": {},
     "output_type": "execute_result"
    }
   ],
   "source": [
    "tensor_2d = tf.constant([\n",
    "    [1,2,3,-4],\n",
    "    [1,3,1,1],\n",
    "    [0,3,1,0]\n",
    "])\n",
    "\n",
    "tensor_2d"
   ]
  },
  {
   "cell_type": "code",
   "execution_count": 5,
   "metadata": {
    "colab": {
     "base_uri": "https://localhost:8080/"
    },
    "executionInfo": {
     "elapsed": 18,
     "status": "ok",
     "timestamp": 1686390969255,
     "user": {
      "displayName": "Sahil Sharma",
      "userId": "07073771831471824950"
     },
     "user_tz": -330
    },
    "id": "17DEwUPT6dtd",
    "outputId": "579579b7-4942-4295-e2c0-d90c2e792113"
   },
   "outputs": [
    {
     "name": "stdout",
     "output_type": "stream",
     "text": [
      "tf.Tensor(\n",
      "[[[  1   2   3]\n",
      "  [  0 -21  12]]\n",
      "\n",
      " [[  0   0 -21]\n",
      "  [  4  11  65]]\n",
      "\n",
      " [[  3   6   2]\n",
      "  [ 41  31  35]]\n",
      "\n",
      " [[  5  -3  -2]\n",
      "  [  3   0   0]]], shape=(4, 2, 3), dtype=int32)\n",
      "Shape is: (4, 2, 3)\n"
     ]
    }
   ],
   "source": [
    "tensor_3d = [[[1,2,3],[0,-21,12]],\n",
    "             [[0,0,-21],[4,11,65]],\n",
    "             [[3,6,2],[41,31,35]],\n",
    "             [[5,-3,-2],[3,0,0]]\n",
    "            ]\n",
    "tensor_3d = tf.constant(tensor_3d)\n",
    "print(tensor_3d);print(\"Shape is:\",tensor_3d.shape)"
   ]
  },
  {
   "cell_type": "code",
   "execution_count": 6,
   "metadata": {
    "colab": {
     "base_uri": "https://localhost:8080/"
    },
    "executionInfo": {
     "elapsed": 17,
     "status": "ok",
     "timestamp": 1686390969255,
     "user": {
      "displayName": "Sahil Sharma",
      "userId": "07073771831471824950"
     },
     "user_tz": -330
    },
    "id": "9dvvldyB7LmV",
    "outputId": "b361580d-09d9-4c8a-95f7-9ab16f47ec57"
   },
   "outputs": [
    {
     "name": "stdout",
     "output_type": "stream",
     "text": [
      "tf.Tensor(\n",
      "[[[[  1   2   3]\n",
      "   [  0 -21  12]]\n",
      "\n",
      "  [[  0   0 -21]\n",
      "   [  4  11  65]]\n",
      "\n",
      "  [[  3   6   2]\n",
      "   [ 41  31  35]]\n",
      "\n",
      "  [[  5  -3  -2]\n",
      "   [  3   0   0]]]\n",
      "\n",
      "\n",
      " [[[  1   2   3]\n",
      "   [  0 -21  12]]\n",
      "\n",
      "  [[  0   0 -21]\n",
      "   [  4  11  65]]\n",
      "\n",
      "  [[  3   6   2]\n",
      "   [ 41  31  35]]\n",
      "\n",
      "  [[  5  -3  -2]\n",
      "   [  3   0   0]]]\n",
      "\n",
      "\n",
      " [[[  1   2   3]\n",
      "   [  0 -21  12]]\n",
      "\n",
      "  [[  0   0 -21]\n",
      "   [  4  11  65]]\n",
      "\n",
      "  [[  3   6   2]\n",
      "   [ 41  31  35]]\n",
      "\n",
      "  [[  5  -3  -2]\n",
      "   [  3   0   0]]]\n",
      "\n",
      "\n",
      " [[[  1   2   3]\n",
      "   [  0 -21  12]]\n",
      "\n",
      "  [[  0   0 -21]\n",
      "   [  4  11  65]]\n",
      "\n",
      "  [[  3   6   2]\n",
      "   [ 41  31  35]]\n",
      "\n",
      "  [[  5  -3  -2]\n",
      "   [  3   0   0]]]\n",
      "\n",
      "\n",
      " [[[  1   2   3]\n",
      "   [  0 -21  12]]\n",
      "\n",
      "  [[  0   0 -21]\n",
      "   [  4  11  65]]\n",
      "\n",
      "  [[  3   6   2]\n",
      "   [ 41  31  35]]\n",
      "\n",
      "  [[  5  -3  -2]\n",
      "   [  3   0   0]]]], shape=(5, 4, 2, 3), dtype=int32)\n",
      "Shape is: (5, 4, 2, 3)\n"
     ]
    }
   ],
   "source": [
    "# combine the 3 dimensional tensors to form a 4 dimensional tensor\n",
    "\n",
    "tensor_4d = [\n",
    "              [\n",
    "                [[1,2,3],[0,-21,12]],\n",
    "                [[0,0,-21],[4,11,65]],\n",
    "                [[3,6,2],[41,31,35]],\n",
    "                [[5,-3,-2],[3,0,0]]\n",
    "              ],\n",
    "              [\n",
    "                [[1,2,3],[0,-21,12]],\n",
    "                [[0,0,-21],[4,11,65]],\n",
    "                [[3,6,2],[41,31,35]],\n",
    "                [[5,-3,-2],[3,0,0]]\n",
    "              ],\n",
    "              [\n",
    "                [[1,2,3],[0,-21,12]],\n",
    "                [[0,0,-21],[4,11,65]],\n",
    "                [[3,6,2],[41,31,35]],\n",
    "                [[5,-3,-2],[3,0,0]]\n",
    "              ],\n",
    "              [\n",
    "                [[1,2,3],[0,-21,12]],\n",
    "                [[0,0,-21],[4,11,65]],\n",
    "                [[3,6,2],[41,31,35]],\n",
    "                [[5,-3,-2],[3,0,0]]\n",
    "              ],\n",
    "              [\n",
    "                [[1,2,3],[0,-21,12]],\n",
    "                [[0,0,-21],[4,11,65]],\n",
    "                [[3,6,2],[41,31,35]],\n",
    "                [[5,-3,-2],[3,0,0]]\n",
    "              ]\n",
    "            ]\n",
    "tensor_4d = tf.constant(tensor_4d)\n",
    "print(tensor_4d);print(\"Shape is:\",tensor_4d.shape)\n",
    "# the shape describes that there are 5 tensors of shape 3d each having shape of 4x2x3"
   ]
  },
  {
   "cell_type": "code",
   "execution_count": 7,
   "metadata": {
    "colab": {
     "base_uri": "https://localhost:8080/"
    },
    "executionInfo": {
     "elapsed": 16,
     "status": "ok",
     "timestamp": 1686390969255,
     "user": {
      "displayName": "Sahil Sharma",
      "userId": "07073771831471824950"
     },
     "user_tz": -330
    },
    "id": "er9Lv23L79iv",
    "outputId": "9e76ff76-71f9-4fa1-e3fc-78044a254383"
   },
   "outputs": [
    {
     "name": "stdout",
     "output_type": "stream",
     "text": [
      "tf.Tensor(91, shape=(), dtype=int8)\n"
     ]
    }
   ],
   "source": [
    "# data types \n",
    "tensor_zero_d = tf.constant(10331,dtype='int8')\n",
    "print(tensor_zero_d)"
   ]
  },
  {
   "cell_type": "code",
   "execution_count": 8,
   "metadata": {
    "colab": {
     "base_uri": "https://localhost:8080/"
    },
    "executionInfo": {
     "elapsed": 15,
     "status": "ok",
     "timestamp": 1686390969256,
     "user": {
      "displayName": "Sahil Sharma",
      "userId": "07073771831471824950"
     },
     "user_tz": -330
    },
    "id": "Ouxjc2_J89pE",
    "outputId": "492b4e02-c99d-4b2f-d0b2-009b69fe6f0f"
   },
   "outputs": [
    {
     "name": "stdout",
     "output_type": "stream",
     "text": [
      "tf.Tensor(10331.0, shape=(), dtype=float64)\n"
     ]
    }
   ],
   "source": [
    "tensor_zero_d = tf.constant(10331,dtype='double')\n",
    "print(tensor_zero_d)"
   ]
  },
  {
   "cell_type": "code",
   "execution_count": 9,
   "metadata": {
    "colab": {
     "base_uri": "https://localhost:8080/"
    },
    "executionInfo": {
     "elapsed": 14,
     "status": "ok",
     "timestamp": 1686390969256,
     "user": {
      "displayName": "Sahil Sharma",
      "userId": "07073771831471824950"
     },
     "user_tz": -330
    },
    "id": "NB89XZSy_VDB",
    "outputId": "e9626373-a5cb-4f1d-e09a-7145b1c9a144"
   },
   "outputs": [
    {
     "name": "stdout",
     "output_type": "stream",
     "text": [
      "tf.Tensor(91, shape=(), dtype=int8)\n"
     ]
    }
   ],
   "source": [
    "tensor_zero_d = tf.constant(10331,dtype='int8')\n",
    "print(tensor_zero_d)"
   ]
  },
  {
   "cell_type": "code",
   "execution_count": 10,
   "metadata": {
    "colab": {
     "base_uri": "https://localhost:8080/"
    },
    "executionInfo": {
     "elapsed": 13,
     "status": "ok",
     "timestamp": 1686390969256,
     "user": {
      "displayName": "Sahil Sharma",
      "userId": "07073771831471824950"
     },
     "user_tz": -330
    },
    "id": "WdSbU0UF_qf6",
    "outputId": "8e219046-3911-4309-f4c0-89c7da266de9"
   },
   "outputs": [
    {
     "name": "stdout",
     "output_type": "stream",
     "text": [
      "tf.Tensor(91, shape=(), dtype=int32)\n"
     ]
    }
   ],
   "source": [
    "casted_tf = tf.cast(tensor_zero_d,tf.int32)\n",
    "print(casted_tf)"
   ]
  },
  {
   "cell_type": "code",
   "execution_count": 11,
   "metadata": {
    "colab": {
     "base_uri": "https://localhost:8080/"
    },
    "executionInfo": {
     "elapsed": 12,
     "status": "ok",
     "timestamp": 1686390969256,
     "user": {
      "displayName": "Sahil Sharma",
      "userId": "07073771831471824950"
     },
     "user_tz": -330
    },
    "id": "Jj1tACpdAKB5",
    "outputId": "59012469-3c9a-4010-da97-19e91f87db5a"
   },
   "outputs": [
    {
     "name": "stdout",
     "output_type": "stream",
     "text": [
      "tf.Tensor([b'Hello' b'world' b'!'], shape=(3,), dtype=string)\n"
     ]
    }
   ],
   "source": [
    "string_tensor = tf.constant([\"Hello\",\"world\",\"!\"])\n",
    "print(string_tensor)"
   ]
  },
  {
   "cell_type": "code",
   "execution_count": 12,
   "metadata": {
    "colab": {
     "base_uri": "https://localhost:8080/"
    },
    "executionInfo": {
     "elapsed": 11,
     "status": "ok",
     "timestamp": 1686390969256,
     "user": {
      "displayName": "Sahil Sharma",
      "userId": "07073771831471824950"
     },
     "user_tz": -330
    },
    "id": "sUfl82Q-BC-h",
    "outputId": "51c0b82a-2b2c-4231-eb12-29f70e3f0813"
   },
   "outputs": [
    {
     "name": "stdout",
     "output_type": "stream",
     "text": [
      "Numpy array: [ 1.33333  2.       3.      31.       2.2313 ]\n",
      "Converted Tesnor(int32): [ 1  2  3 31  2]\n"
     ]
    }
   ],
   "source": [
    "# numpy array to Tensor\n",
    "np_array = np.array([1.33333,2,3,31,2.2313])\n",
    "print(f\"Numpy array: {np_array}\")\n",
    "\n",
    "# converting to Tensor\n",
    "converted_tensor = tf.convert_to_tensor(np_array,dtype=tf.int32)\n",
    "print(f\"Converted Tesnor(int32): {converted_tensor}\")"
   ]
  },
  {
   "cell_type": "code",
   "execution_count": 13,
   "metadata": {
    "colab": {
     "base_uri": "https://localhost:8080/"
    },
    "executionInfo": {
     "elapsed": 10,
     "status": "ok",
     "timestamp": 1686390969256,
     "user": {
      "displayName": "Sahil Sharma",
      "userId": "07073771831471824950"
     },
     "user_tz": -330
    },
    "id": "8eAwJmtjBkmx",
    "outputId": "fa5b7e0d-ddad-4610-c7c0-61ff0138236d"
   },
   "outputs": [
    {
     "name": "stdout",
     "output_type": "stream",
     "text": [
      "tf.Tensor(\n",
      "[[[[1 0 0 0]\n",
      "   [0 1 0 0]\n",
      "   [0 0 1 0]]\n",
      "\n",
      "  [[1 0 0 0]\n",
      "   [0 1 0 0]\n",
      "   [0 0 1 0]]\n",
      "\n",
      "  [[1 0 0 0]\n",
      "   [0 1 0 0]\n",
      "   [0 0 1 0]]\n",
      "\n",
      "  [[1 0 0 0]\n",
      "   [0 1 0 0]\n",
      "   [0 0 1 0]]]\n",
      "\n",
      "\n",
      " [[[1 0 0 0]\n",
      "   [0 1 0 0]\n",
      "   [0 0 1 0]]\n",
      "\n",
      "  [[1 0 0 0]\n",
      "   [0 1 0 0]\n",
      "   [0 0 1 0]]\n",
      "\n",
      "  [[1 0 0 0]\n",
      "   [0 1 0 0]\n",
      "   [0 0 1 0]]\n",
      "\n",
      "  [[1 0 0 0]\n",
      "   [0 1 0 0]\n",
      "   [0 0 1 0]]]], shape=(2, 4, 3, 4), dtype=int32)\n"
     ]
    }
   ],
   "source": [
    "# identity Tensor\n",
    "eye_tensor = tf.eye(num_rows=3,\n",
    "                    num_columns=4,\n",
    "                    dtype=tf.int32,\n",
    "                    name='identity inte32 Tensor',\n",
    "                    batch_shape=[2,4])       # >>>> i.e. generate 2 such matrics of shape 4x3x3\n",
    "\n",
    "print(eye_tensor)"
   ]
  },
  {
   "cell_type": "code",
   "execution_count": 14,
   "metadata": {
    "colab": {
     "base_uri": "https://localhost:8080/"
    },
    "executionInfo": {
     "elapsed": 10,
     "status": "ok",
     "timestamp": 1686390969257,
     "user": {
      "displayName": "Sahil Sharma",
      "userId": "07073771831471824950"
     },
     "user_tz": -330
    },
    "id": "f-0yEq0vCfKM",
    "outputId": "5ae2c6b4-7239-4c79-9b17-9b38f843ed15"
   },
   "outputs": [
    {
     "name": "stdout",
     "output_type": "stream",
     "text": [
      "tf.Tensor(\n",
      "[[1201.3 1201.3 1201.3]\n",
      " [1201.3 1201.3 1201.3]\n",
      " [1201.3 1201.3 1201.3]\n",
      " [1201.3 1201.3 1201.3]], shape=(4, 3), dtype=float32)\n"
     ]
    }
   ],
   "source": [
    "# filled tensor\n",
    "filled_tensor = tf.fill(dims=[4,3], value=1201.3)\n",
    "print(filled_tensor)"
   ]
  },
  {
   "cell_type": "code",
   "execution_count": 15,
   "metadata": {
    "colab": {
     "base_uri": "https://localhost:8080/"
    },
    "executionInfo": {
     "elapsed": 9,
     "status": "ok",
     "timestamp": 1686390969257,
     "user": {
      "displayName": "Sahil Sharma",
      "userId": "07073771831471824950"
     },
     "user_tz": -330
    },
    "id": "BPg5aDDGFNiX",
    "outputId": "7c14fcac-4d3e-4277-c7ed-67eb13a9ceec"
   },
   "outputs": [
    {
     "name": "stdout",
     "output_type": "stream",
     "text": [
      "tf.Tensor(\n",
      "[[ True  True  True]\n",
      " [ True  True  True]], shape=(2, 3), dtype=bool)\n"
     ]
    }
   ],
   "source": [
    "one_tensor = tf.ones(shape=[2,3], dtype=tf.bool)\n",
    "print(one_tensor)"
   ]
  },
  {
   "cell_type": "code",
   "execution_count": 16,
   "metadata": {
    "colab": {
     "base_uri": "https://localhost:8080/"
    },
    "executionInfo": {
     "elapsed": 8,
     "status": "ok",
     "timestamp": 1686390969257,
     "user": {
      "displayName": "Sahil Sharma",
      "userId": "07073771831471824950"
     },
     "user_tz": -330
    },
    "id": "dBEpcGpsFo7X",
    "outputId": "d8650613-d35b-4dea-8ecc-6091be9b5888"
   },
   "outputs": [
    {
     "name": "stdout",
     "output_type": "stream",
     "text": [
      "tf.Tensor(\n",
      "[[1 1]\n",
      " [1 1]\n",
      " [1 1]], shape=(3, 2), dtype=int32)\n"
     ]
    }
   ],
   "source": [
    "one_like_tensor = tf.ones_like(input=[[2,3],[21,31],[31,3]])\n",
    "print(one_like_tensor)"
   ]
  },
  {
   "cell_type": "code",
   "execution_count": 17,
   "metadata": {
    "colab": {
     "base_uri": "https://localhost:8080/"
    },
    "executionInfo": {
     "elapsed": 8,
     "status": "ok",
     "timestamp": 1686390969257,
     "user": {
      "displayName": "Sahil Sharma",
      "userId": "07073771831471824950"
     },
     "user_tz": -330
    },
    "id": "CHxPI5nmGF9t",
    "outputId": "a6d6eda8-73cc-4e80-d384-da48fbad2859"
   },
   "outputs": [
    {
     "name": "stdout",
     "output_type": "stream",
     "text": [
      "tf.Tensor(2, shape=(), dtype=int32)\n"
     ]
    }
   ],
   "source": [
    "# get rank\n",
    "rank = tf.rank(input=[[2,3],[21,31],[31,3]]\n",
    "    , name=None\n",
    ")\n",
    "print(rank)"
   ]
  },
  {
   "cell_type": "code",
   "execution_count": 18,
   "metadata": {
    "colab": {
     "base_uri": "https://localhost:8080/"
    },
    "executionInfo": {
     "elapsed": 7,
     "status": "ok",
     "timestamp": 1686390969257,
     "user": {
      "displayName": "Sahil Sharma",
      "userId": "07073771831471824950"
     },
     "user_tz": -330
    },
    "id": "2u5tiRhUHIcs",
    "outputId": "f220b508-3dc4-4af1-c60f-0513b99fca46"
   },
   "outputs": [
    {
     "name": "stdout",
     "output_type": "stream",
     "text": [
      "tf.Tensor(6, shape=(), dtype=int32)\n"
     ]
    }
   ],
   "source": [
    "# size \n",
    "tensor_size = tf.size(\n",
    "    input=[[2,3],[21,31],[31,3]],\n",
    "    out_type=tf.dtypes.int32,\n",
    "    name=None\n",
    ")\n",
    "print(tensor_size)"
   ]
  },
  {
   "cell_type": "code",
   "execution_count": 19,
   "metadata": {
    "executionInfo": {
     "elapsed": 6,
     "status": "ok",
     "timestamp": 1686390969257,
     "user": {
      "displayName": "Sahil Sharma",
      "userId": "07073771831471824950"
     },
     "user_tz": -330
    },
    "id": "aSpTFlfdK047"
   },
   "outputs": [],
   "source": [
    "# setting global seed \n",
    "tf.random.set_seed(10)"
   ]
  },
  {
   "cell_type": "code",
   "execution_count": 20,
   "metadata": {
    "colab": {
     "base_uri": "https://localhost:8080/"
    },
    "executionInfo": {
     "elapsed": 5,
     "status": "ok",
     "timestamp": 1686390969752,
     "user": {
      "displayName": "Sahil Sharma",
      "userId": "07073771831471824950"
     },
     "user_tz": -330
    },
    "id": "hOozs5hnHwhv",
    "outputId": "6ab79d24-c3bc-44b0-c30a-7d5ceeede4b6"
   },
   "outputs": [
    {
     "name": "stdout",
     "output_type": "stream",
     "text": [
      "tf.Tensor(\n",
      "[[22.981594 22.583132 23.945335]\n",
      " [23.015936 22.605556 23.173172]], shape=(2, 3), dtype=float32)\n"
     ]
    }
   ],
   "source": [
    "# random variable generation in TF\n",
    "# setting global seed: will produce the same output each time using the set_seed() method.\n",
    "tf.random.set_seed(10)\n",
    "random_normal = tf.random.normal(mean=23,\n",
    "                                 shape=[2,3],\n",
    "                                 stddev=.49,\n",
    "                                 seed=100)\n",
    "print(random_normal)"
   ]
  },
  {
   "cell_type": "code",
   "execution_count": 21,
   "metadata": {
    "colab": {
     "base_uri": "https://localhost:8080/"
    },
    "executionInfo": {
     "elapsed": 4,
     "status": "ok",
     "timestamp": 1686390969752,
     "user": {
      "displayName": "Sahil Sharma",
      "userId": "07073771831471824950"
     },
     "user_tz": -330
    },
    "id": "dj05t3SaJ60w",
    "outputId": "434abb99-4d73-4ce1-dd84-70dd6b7b2b35"
   },
   "outputs": [
    {
     "name": "stdout",
     "output_type": "stream",
     "text": [
      "tf.Tensor(\n",
      "[[22.985998 23.077477 22.743137]\n",
      " [22.713957 23.04481  22.104408]], shape=(2, 3), dtype=float32)\n"
     ]
    }
   ],
   "source": [
    "# random variable generation in TF\n",
    "random_normal = tf.random.normal(mean=23,\n",
    "                                 shape=[2,3],\n",
    "                                 stddev=.49,\n",
    "                                 seed=1)\n",
    "print(random_normal)"
   ]
  },
  {
   "cell_type": "code",
   "execution_count": 22,
   "metadata": {
    "colab": {
     "base_uri": "https://localhost:8080/"
    },
    "executionInfo": {
     "elapsed": 3,
     "status": "ok",
     "timestamp": 1686390969752,
     "user": {
      "displayName": "Sahil Sharma",
      "userId": "07073771831471824950"
     },
     "user_tz": -330
    },
    "id": "KEFEMdstIgAV",
    "outputId": "b7687f3d-64fb-402e-9815-6bfe434db8ff"
   },
   "outputs": [
    {
     "name": "stdout",
     "output_type": "stream",
     "text": [
      "tf.Tensor([22.883018 26.164944 27.953094], shape=(3,), dtype=float32)\n"
     ]
    }
   ],
   "source": [
    "# uniform distribution\n",
    "uniform_tensor = tf.random.uniform(\n",
    "    [3,],\n",
    "    minval=10,\n",
    "    maxval=30,\n",
    "    dtype=tf.dtypes.float32,\n",
    "    seed=None,\n",
    "    name=None\n",
    ")\n",
    "\n",
    "print(uniform_tensor)"
   ]
  },
  {
   "cell_type": "markdown",
   "metadata": {
    "id": "3SuekqyzvJ21"
   },
   "source": [
    "### **2.Indexing**"
   ]
  },
  {
   "cell_type": "code",
   "execution_count": 37,
   "metadata": {
    "colab": {
     "base_uri": "https://localhost:8080/"
    },
    "executionInfo": {
     "elapsed": 1454,
     "status": "ok",
     "timestamp": 1686391863189,
     "user": {
      "displayName": "Sahil Sharma",
      "userId": "07073771831471824950"
     },
     "user_tz": -330
    },
    "id": "rd3hSSsKJ4Lv",
    "outputId": "599f7ebc-4db7-4e2b-fca1-fc2f727f0310"
   },
   "outputs": [
    {
     "name": "stdout",
     "output_type": "stream",
     "text": [
      "tf.Tensor([79 16 89 36 47 87 88 96 43 93], shape=(10,), dtype=int32)\n"
     ]
    }
   ],
   "source": [
    "tensor_one_d = tf.random.uniform(\n",
    "    [10,],\n",
    "    minval=10,\n",
    "    maxval=100,\n",
    "    dtype=tf.dtypes.int32\n",
    ")\n",
    "\n",
    "print(tensor_one_d)"
   ]
  },
  {
   "cell_type": "code",
   "execution_count": 39,
   "metadata": {
    "colab": {
     "base_uri": "https://localhost:8080/"
    },
    "executionInfo": {
     "elapsed": 1389,
     "status": "ok",
     "timestamp": 1686391873220,
     "user": {
      "displayName": "Sahil Sharma",
      "userId": "07073771831471824950"
     },
     "user_tz": -330
    },
    "id": "K8LQEiQUv-ki",
    "outputId": "bba7c65d-f405-4b81-bb33-aa3217f4af66"
   },
   "outputs": [
    {
     "name": "stdout",
     "output_type": "stream",
     "text": [
      "tf.Tensor([16 89 36 47], shape=(4,), dtype=int32)\n",
      "tf.Tensor([79 89 47 88 43], shape=(5,), dtype=int32)\n",
      "tf.Tensor([93 43 96 88 87 47 36 89 16 79], shape=(10,), dtype=int32)\n"
     ]
    }
   ],
   "source": [
    "print(tensor_one_d[1:5])\n",
    "print(tensor_one_d[::2])\n",
    "print(tensor_one_d[::-1])"
   ]
  },
  {
   "cell_type": "code",
   "execution_count": 43,
   "metadata": {
    "colab": {
     "base_uri": "https://localhost:8080/"
    },
    "executionInfo": {
     "elapsed": 419,
     "status": "ok",
     "timestamp": 1686391927374,
     "user": {
      "displayName": "Sahil Sharma",
      "userId": "07073771831471824950"
     },
     "user_tz": -330
    },
    "id": "wpqF6d0xwJ3v",
    "outputId": "a297e185-cf77-4f37-e810-c05abb349a45"
   },
   "outputs": [
    {
     "name": "stdout",
     "output_type": "stream",
     "text": [
      "tf.Tensor(\n",
      "[[32 10 40 21]\n",
      " [41 44 34 78]\n",
      " [90 28 22 89]\n",
      " [51 88 15 68]\n",
      " [20 24 32 40]], shape=(5, 4), dtype=int32)\n"
     ]
    }
   ],
   "source": [
    "tensor_2d = tf.random.uniform(\n",
    "    [5,4],\n",
    "    minval=10,\n",
    "    maxval=100,\n",
    "    dtype=tf.dtypes.int32\n",
    ")\n",
    "\n",
    "print(tensor_2d)"
   ]
  },
  {
   "cell_type": "code",
   "execution_count": 51,
   "metadata": {
    "colab": {
     "base_uri": "https://localhost:8080/"
    },
    "executionInfo": {
     "elapsed": 459,
     "status": "ok",
     "timestamp": 1686392270229,
     "user": {
      "displayName": "Sahil Sharma",
      "userId": "07073771831471824950"
     },
     "user_tz": -330
    },
    "id": "ZFwHP8S_yjCR",
    "outputId": "3216db61-fbee-4de0-9a32-817240d23355"
   },
   "outputs": [
    {
     "name": "stdout",
     "output_type": "stream",
     "text": [
      "tf.Tensor([10 44 28 88 24], shape=(5,), dtype=int32)\n"
     ]
    }
   ],
   "source": [
    "# Indexing Format >>> [row,col]\n",
    "print(tensor_2d[:,1])"
   ]
  },
  {
   "cell_type": "markdown",
   "metadata": {
    "id": "0gnpWkWby7mm"
   },
   "source": [
    "![image.png](data:image/png;base64,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)"
   ]
  },
  {
   "cell_type": "code",
   "execution_count": 46,
   "metadata": {
    "colab": {
     "base_uri": "https://localhost:8080/"
    },
    "executionInfo": {
     "elapsed": 572,
     "status": "ok",
     "timestamp": 1686392101205,
     "user": {
      "displayName": "Sahil Sharma",
      "userId": "07073771831471824950"
     },
     "user_tz": -330
    },
    "id": "-n756u7nyv2T",
    "outputId": "3870aedc-a72c-4a6c-8886-156a22421166"
   },
   "outputs": [
    {
     "name": "stdout",
     "output_type": "stream",
     "text": [
      "tf.Tensor(\n",
      "[[34 78]\n",
      " [22 89]], shape=(2, 2), dtype=int32)\n"
     ]
    }
   ],
   "source": [
    "# getting above matrix\n",
    "print(tensor_2d[1:3,2:])"
   ]
  },
  {
   "cell_type": "code",
   "execution_count": 56,
   "metadata": {
    "colab": {
     "base_uri": "https://localhost:8080/"
    },
    "executionInfo": {
     "elapsed": 548,
     "status": "ok",
     "timestamp": 1686392393709,
     "user": {
      "displayName": "Sahil Sharma",
      "userId": "07073771831471824950"
     },
     "user_tz": -330
    },
    "id": "TB2e1ZVQzgSR",
    "outputId": "8ecbd1c3-8295-4f7d-904c-f1414ce3a691"
   },
   "outputs": [
    {
     "name": "stdout",
     "output_type": "stream",
     "text": [
      "tf.Tensor([10 44 28 88 24], shape=(5,), dtype=int32)\n"
     ]
    }
   ],
   "source": [
    "# specifying the three dots provides all the elements \n",
    "print(tensor_2d[...,1])   # >> i.e. all the elements from the 2nd column"
   ]
  },
  {
   "cell_type": "code",
   "execution_count": 57,
   "metadata": {
    "colab": {
     "base_uri": "https://localhost:8080/"
    },
    "executionInfo": {
     "elapsed": 450,
     "status": "ok",
     "timestamp": 1686392439430,
     "user": {
      "displayName": "Sahil Sharma",
      "userId": "07073771831471824950"
     },
     "user_tz": -330
    },
    "id": "0jXs467W0NIi",
    "outputId": "c39bd0a3-8fc6-4cd3-c042-0f5cc50a5f21"
   },
   "outputs": [
    {
     "name": "stdout",
     "output_type": "stream",
     "text": [
      "tf.Tensor(\n",
      "[[[  1   2   3]\n",
      "  [  0 -21  12]]\n",
      "\n",
      " [[  0   0 -21]\n",
      "  [  4  11  65]]\n",
      "\n",
      " [[  3   6   2]\n",
      "  [ 41  31  35]]\n",
      "\n",
      " [[  5  -3  -2]\n",
      "  [  3   0   0]]], shape=(4, 2, 3), dtype=int32)\n"
     ]
    }
   ],
   "source": [
    "tensor_3d = [[[1,2,3],[0,-21,12]],\n",
    "             [[0,0,-21],[4,11,65]],\n",
    "             [[3,6,2],[41,31,35]],\n",
    "             [[5,-3,-2],[3,0,0]]\n",
    "            ]\n",
    "tensor_3d = tf.constant(tensor_3d)\n",
    "print(tensor_3d)"
   ]
  },
  {
   "cell_type": "code",
   "execution_count": 60,
   "metadata": {
    "colab": {
     "base_uri": "https://localhost:8080/"
    },
    "executionInfo": {
     "elapsed": 672,
     "status": "ok",
     "timestamp": 1686392611761,
     "user": {
      "displayName": "Sahil Sharma",
      "userId": "07073771831471824950"
     },
     "user_tz": -330
    },
    "id": "bqJFdYVv0n3u",
    "outputId": "a514e6f1-9c42-4a02-fd41-6a7b5345b1c9"
   },
   "outputs": [
    {
     "name": "stdout",
     "output_type": "stream",
     "text": [
      "tf.Tensor([[65]], shape=(1, 1), dtype=int32)\n"
     ]
    }
   ],
   "source": [
    "# >>> Get first row's 2nd column from the 2nd Tensor\n",
    "print(tensor_3d[1,1:,2:])"
   ]
  },
  {
   "cell_type": "markdown",
   "metadata": {
    "id": "v_IS5-CA3Bpk"
   },
   "source": [
    "### 3.**tf.math**"
   ]
  },
  {
   "cell_type": "markdown",
   "metadata": {
    "id": "-gN5nn2i3-3G"
   },
   "source": [
    "#### 3.1 abs()"
   ]
  },
  {
   "cell_type": "code",
   "execution_count": 61,
   "metadata": {
    "colab": {
     "base_uri": "https://localhost:8080/"
    },
    "executionInfo": {
     "elapsed": 538,
     "status": "ok",
     "timestamp": 1686393160584,
     "user": {
      "displayName": "Sahil Sharma",
      "userId": "07073771831471824950"
     },
     "user_tz": -330
    },
    "id": "dd-68DQh0rvo",
    "outputId": "f6748441-a3f7-454c-f0ed-afa532251d76"
   },
   "outputs": [
    {
     "name": "stdout",
     "output_type": "stream",
     "text": [
      "tf.Tensor(\n",
      "[[[ 1  2  3]\n",
      "  [ 0 21 12]]\n",
      "\n",
      " [[ 0  0 21]\n",
      "  [ 4 11 65]]\n",
      "\n",
      " [[ 3  6  2]\n",
      "  [41 31 35]]\n",
      "\n",
      " [[ 5  3  2]\n",
      "  [ 3  0  0]]], shape=(4, 2, 3), dtype=int32)\n"
     ]
    }
   ],
   "source": [
    "print(tf.math.abs(tensor_3d))"
   ]
  },
  {
   "cell_type": "code",
   "execution_count": 64,
   "metadata": {
    "colab": {
     "base_uri": "https://localhost:8080/"
    },
    "executionInfo": {
     "elapsed": 519,
     "status": "ok",
     "timestamp": 1686393296016,
     "user": {
      "displayName": "Sahil Sharma",
      "userId": "07073771831471824950"
     },
     "user_tz": -330
    },
    "id": "4a0V2FTY3X6f",
    "outputId": "bd7d0654-e720-403d-d634-b47add101ba1"
   },
   "outputs": [
    {
     "name": "stdout",
     "output_type": "stream",
     "text": [
      "tf.Tensor([5.25594901], shape=(1,), dtype=float64)\n"
     ]
    }
   ],
   "source": [
    "# complex numbers:\n",
    "x = tf.constant([-2.25 + 4.75j])\n",
    "print(tf.abs(x))"
   ]
  },
  {
   "cell_type": "markdown",
   "metadata": {
    "id": "3nSi0f6S4EE8"
   },
   "source": [
    "#### 3.2 sqrt()"
   ]
  },
  {
   "cell_type": "code",
   "execution_count": 65,
   "metadata": {
    "colab": {
     "base_uri": "https://localhost:8080/"
    },
    "executionInfo": {
     "elapsed": 425,
     "status": "ok",
     "timestamp": 1686393429906,
     "user": {
      "displayName": "Sahil Sharma",
      "userId": "07073771831471824950"
     },
     "user_tz": -330
    },
    "id": "FL0WPL273y6F",
    "outputId": "bbbd7730-b915-42eb-9959-77feb34a37c4"
   },
   "outputs": [
    {
     "name": "stdout",
     "output_type": "stream",
     "text": [
      "tf.Tensor(\n",
      "[[2.]\n",
      " [4.]], shape=(2, 1), dtype=float32)\n"
     ]
    }
   ],
   "source": [
    "x = tf.constant([[4.0], [16.0]])\n",
    "print(tf.sqrt(x))"
   ]
  },
  {
   "cell_type": "code",
   "execution_count": 74,
   "metadata": {
    "colab": {
     "base_uri": "https://localhost:8080/"
    },
    "executionInfo": {
     "elapsed": 433,
     "status": "ok",
     "timestamp": 1686393583699,
     "user": {
      "displayName": "Sahil Sharma",
      "userId": "07073771831471824950"
     },
     "user_tz": -330
    },
    "id": "FouZM5-l4Zqm",
    "outputId": "cbc12560-92e5-4fe2-b428-a47b5e5eff75"
   },
   "outputs": [
    {
     "name": "stdout",
     "output_type": "stream",
     "text": [
      "tf.Tensor(\n",
      "[[ 0.]\n",
      " [12.]], shape=(2, 1), dtype=float32)\n",
      "tf.Tensor(\n",
      "[[ 8.]\n",
      " [20.]], shape=(2, 1), dtype=float32)\n",
      "tf.Tensor(\n",
      "[[16.]\n",
      " [64.]], shape=(2, 1), dtype=float32)\n",
      "tf.Tensor(\n",
      "[[0.8]\n",
      " [3.2]], shape=(2, 1), dtype=float32)\n"
     ]
    }
   ],
   "source": [
    "print(tf.subtract(x,4))\n",
    "print(tf.add(x,4))\n",
    "print(tf.multiply(x,4))\n",
    "print(tf.divide(x,5))\n"
   ]
  },
  {
   "cell_type": "code",
   "execution_count": 88,
   "metadata": {
    "colab": {
     "base_uri": "https://localhost:8080/"
    },
    "executionInfo": {
     "elapsed": 626,
     "status": "ok",
     "timestamp": 1686394530260,
     "user": {
      "displayName": "Sahil Sharma",
      "userId": "07073771831471824950"
     },
     "user_tz": -330
    },
    "id": "floYE-Lq4jHQ",
    "outputId": "53f2d5b9-f110-475a-ac6a-853b57559498"
   },
   "outputs": [
    {
     "name": "stdout",
     "output_type": "stream",
     "text": [
      "Shape:  (5,) (3, 1)\n",
      "tf.Tensor(\n",
      "[[ 2  4  6  8 10]\n",
      " [ 4  8 12 16 20]\n",
      " [ 6 12 18 24 30]], shape=(3, 5), dtype=int32)\n"
     ]
    }
   ],
   "source": [
    "x1 = tf.constant([1,2,3,4,5])\n",
    "x2 = tf.constant([[2],\n",
    "                  [4],\n",
    "                  [6]])\n",
    "print(\"Shape: \",x1.shape,x2.shape)\n",
    "print(tf.multiply(x1,x2))\n",
    "# row wise multiplication is performed"
   ]
  },
  {
   "cell_type": "code",
   "execution_count": 87,
   "metadata": {
    "colab": {
     "base_uri": "https://localhost:8080/"
    },
    "executionInfo": {
     "elapsed": 633,
     "status": "ok",
     "timestamp": 1686394451130,
     "user": {
      "displayName": "Sahil Sharma",
      "userId": "07073771831471824950"
     },
     "user_tz": -330
    },
    "id": "4Nq_tREM5pmR",
    "outputId": "3ba673fd-1bf5-4762-b94e-77dd1e8fa0f7"
   },
   "outputs": [
    {
     "name": "stdout",
     "output_type": "stream",
     "text": [
      "Shape:  (5,) (5,)\n",
      "tf.Tensor([ 4  8 12 16 20], shape=(5,), dtype=int32)\n"
     ]
    }
   ],
   "source": [
    "x1 = tf.constant([1,2,3,4,5])\n",
    "x2 = tf.constant([4,4,4,4,4])\n",
    "# or \n",
    "# x2 = tf.constant([4,4,4,4,4])\n",
    "print(\"Shape: \",x1.shape,x2.shape)\n",
    "print(tf.multiply(x1,x2))"
   ]
  },
  {
   "cell_type": "markdown",
   "metadata": {
    "id": "OdkTwuNr9EJm"
   },
   "source": [
    "#### 3.3 argmax()\n",
    "Returns the index of maximum number in a row/column."
   ]
  },
  {
   "cell_type": "code",
   "execution_count": 91,
   "metadata": {
    "colab": {
     "base_uri": "https://localhost:8080/"
    },
    "executionInfo": {
     "elapsed": 439,
     "status": "ok",
     "timestamp": 1686394788304,
     "user": {
      "displayName": "Sahil Sharma",
      "userId": "07073771831471824950"
     },
     "user_tz": -330
    },
    "id": "7q7aYPh78KVA",
    "outputId": "0228dec2-cf0a-4674-e69d-0d9f62d768f5"
   },
   "outputs": [
    {
     "name": "stdout",
     "output_type": "stream",
     "text": [
      "tf.Tensor([2 2 1], shape=(3,), dtype=int64)\n"
     ]
    }
   ],
   "source": [
    "x = tf.constant([[2, 20, 30, 3, 6], \n",
    "                [3, 11, 16, 1, 8],\n",
    "                [14, 45, 23, 5, 27]])\n",
    "print(tf.argmax(x,axis=1))"
   ]
  },
  {
   "cell_type": "code",
   "execution_count": 101,
   "metadata": {
    "colab": {
     "base_uri": "https://localhost:8080/"
    },
    "executionInfo": {
     "elapsed": 433,
     "status": "ok",
     "timestamp": 1686395150604,
     "user": {
      "displayName": "Sahil Sharma",
      "userId": "07073771831471824950"
     },
     "user_tz": -330
    },
    "id": "9ODkDHZr9M-N",
    "outputId": "9a7a8efd-56ca-4979-92e4-f10e50986e76"
   },
   "outputs": [
    {
     "name": "stdout",
     "output_type": "stream",
     "text": [
      "tf.Tensor([2 2 0 2 2], shape=(5,), dtype=int64)\n"
     ]
    }
   ],
   "source": [
    "x = tf.constant([[2, 20, 30, 3, 6], \n",
    "                [3, 11, 16, 1, 8],\n",
    "                [14, 45, 23, 5, 27]])\n",
    "print(tf.argmax(x,axis=0))"
   ]
  },
  {
   "cell_type": "markdown",
   "metadata": {
    "id": "_Ds4-4T5-giq"
   },
   "source": [
    "#### 3.4 reduce_sum()"
   ]
  },
  {
   "cell_type": "code",
   "execution_count": 96,
   "metadata": {
    "colab": {
     "base_uri": "https://localhost:8080/"
    },
    "executionInfo": {
     "elapsed": 818,
     "status": "ok",
     "timestamp": 1686395117867,
     "user": {
      "displayName": "Sahil Sharma",
      "userId": "07073771831471824950"
     },
     "user_tz": -330
    },
    "id": "PtnKRvjX9qJ5",
    "outputId": "5def41e3-85f2-49e4-d136-b8c3cfb1a4a2"
   },
   "outputs": [
    {
     "name": "stdout",
     "output_type": "stream",
     "text": [
      "6\n"
     ]
    }
   ],
   "source": [
    "x = tf.constant([[1, 1, 1], \n",
    "                  [1, 1, 1]])\n",
    "print(tf.reduce_sum(x).numpy())"
   ]
  },
  {
   "cell_type": "code",
   "execution_count": 102,
   "metadata": {
    "colab": {
     "base_uri": "https://localhost:8080/"
    },
    "executionInfo": {
     "elapsed": 614,
     "status": "ok",
     "timestamp": 1686395215506,
     "user": {
      "displayName": "Sahil Sharma",
      "userId": "07073771831471824950"
     },
     "user_tz": -330
    },
    "id": "4P_9dNE4_LFl",
    "outputId": "aec07d73-2d59-4013-c0f9-02049991513e"
   },
   "outputs": [
    {
     "data": {
      "text/plain": [
       "<tf.Tensor: shape=(4, 2, 3), dtype=int32, numpy=\n",
       "array([[[  1,   2,   3],\n",
       "        [  0, -21,  12]],\n",
       "\n",
       "       [[  0,   0, -21],\n",
       "        [  4,  11,  65]],\n",
       "\n",
       "       [[  3,   6,   2],\n",
       "        [ 41,  31,  35]],\n",
       "\n",
       "       [[  5,  -3,  -2],\n",
       "        [  3,   0,   0]]], dtype=int32)>"
      ]
     },
     "execution_count": 102,
     "metadata": {},
     "output_type": "execute_result"
    }
   ],
   "source": [
    "tensor_3d"
   ]
  },
  {
   "cell_type": "code",
   "execution_count": 105,
   "metadata": {
    "colab": {
     "base_uri": "https://localhost:8080/"
    },
    "executionInfo": {
     "elapsed": 555,
     "status": "ok",
     "timestamp": 1686395259428,
     "user": {
      "displayName": "Sahil Sharma",
      "userId": "07073771831471824950"
     },
     "user_tz": -330
    },
    "id": "XmyFcp2m-wLE",
    "outputId": "511335f9-81a1-45fa-ad3e-7b154ac9e39e"
   },
   "outputs": [
    {
     "name": "stdout",
     "output_type": "stream",
     "text": [
      "[[  1 -19  15]\n",
      " [  4  11  44]\n",
      " [ 44  37  37]\n",
      " [  8  -3  -2]]\n"
     ]
    }
   ],
   "source": [
    "# each row holds the sum of each tensor along the rows\n",
    "print(tf.reduce_sum(tensor_3d,axis=1).numpy())"
   ]
  },
  {
   "cell_type": "code",
   "execution_count": 112,
   "metadata": {
    "colab": {
     "base_uri": "https://localhost:8080/"
    },
    "executionInfo": {
     "elapsed": 409,
     "status": "ok",
     "timestamp": 1686395947778,
     "user": {
      "displayName": "Sahil Sharma",
      "userId": "07073771831471824950"
     },
     "user_tz": -330
    },
    "id": "UK796Plc_QPy",
    "outputId": "2d3164a9-7808-48df-b151-629db972d8af"
   },
   "outputs": [
    {
     "name": "stdout",
     "output_type": "stream",
     "text": [
      "[[  9   5 -18]\n",
      " [ 48  21 112]]\n"
     ]
    }
   ],
   "source": [
    "# each row >> sum of rows of each tensor, i.e. first row has sum of all the first rows of all the tensors.\n",
    "print(tf.reduce_sum(tensor_3d,axis=0).numpy())"
   ]
  },
  {
   "cell_type": "code",
   "execution_count": 117,
   "metadata": {
    "colab": {
     "base_uri": "https://localhost:8080/"
    },
    "executionInfo": {
     "elapsed": 700,
     "status": "ok",
     "timestamp": 1686395999920,
     "user": {
      "displayName": "Sahil Sharma",
      "userId": "07073771831471824950"
     },
     "user_tz": -330
    },
    "id": "tsBTiLWJ_5wR",
    "outputId": "8c2b1f31-3650-4cb0-8ee6-54544cf63616"
   },
   "outputs": [
    {
     "name": "stdout",
     "output_type": "stream",
     "text": [
      "[[  6  -9]\n",
      " [-21  80]\n",
      " [ 11 107]\n",
      " [  0   3]]\n"
     ]
    }
   ],
   "source": [
    "# sum of all the 2d tensors along the columns\n",
    "print(tf.reduce_sum(tensor_3d,axis=2).numpy())"
   ]
  },
  {
   "cell_type": "code",
   "execution_count": 118,
   "metadata": {
    "colab": {
     "base_uri": "https://localhost:8080/"
    },
    "executionInfo": {
     "elapsed": 450,
     "status": "ok",
     "timestamp": 1686396051645,
     "user": {
      "displayName": "Sahil Sharma",
      "userId": "07073771831471824950"
     },
     "user_tz": -330
    },
    "id": "sKuUI7pCCKBF",
    "outputId": "649a45b0-ff4f-4560-c5a4-c90006fef950"
   },
   "outputs": [
    {
     "name": "stdout",
     "output_type": "stream",
     "text": [
      "177\n"
     ]
    }
   ],
   "source": [
    "# sum of all the elements\n",
    "print(tf.reduce_sum(tensor_3d).numpy())"
   ]
  },
  {
   "cell_type": "markdown",
   "metadata": {
    "id": "hTPWkuJEESZB"
   },
   "source": [
    "#### 3.5 top_k()"
   ]
  },
  {
   "cell_type": "code",
   "execution_count": 126,
   "metadata": {
    "colab": {
     "base_uri": "https://localhost:8080/"
    },
    "executionInfo": {
     "elapsed": 1640,
     "status": "ok",
     "timestamp": 1686398464311,
     "user": {
      "displayName": "Sahil Sharma",
      "userId": "07073771831471824950"
     },
     "user_tz": -330
    },
    "id": "piR-v4VRCZwC",
    "outputId": "f883f861-054a-45bd-a155-bd9d0a1453e5"
   },
   "outputs": [
    {
     "name": "stdout",
     "output_type": "stream",
     "text": [
      "TopKV2(values=<tf.Tensor: shape=(3,), dtype=int32, numpy=array([99, 98, 96], dtype=int32)>, indices=<tf.Tensor: shape=(3,), dtype=int32, numpy=array([5, 2, 9], dtype=int32)>)\n"
     ]
    }
   ],
   "source": [
    "result = tf.math.top_k([1, 2, 98, 1, 1, 99, 3, 1, 3, 96, 4, 1],\n",
    "                        k=3)\n",
    "print(result)"
   ]
  },
  {
   "cell_type": "markdown",
   "metadata": {
    "id": "ielB_TF8LqHz"
   },
   "source": [
    "### 4.**Linear Algebra Operations**"
   ]
  },
  {
   "cell_type": "markdown",
   "metadata": {
    "id": "EjbQzqV2MAzq"
   },
   "source": [
    "4.1 Multiplication"
   ]
  },
  {
   "cell_type": "code",
   "execution_count": 129,
   "metadata": {
    "colab": {
     "base_uri": "https://localhost:8080/"
    },
    "executionInfo": {
     "elapsed": 431,
     "status": "ok",
     "timestamp": 1686398698165,
     "user": {
      "displayName": "Sahil Sharma",
      "userId": "07073771831471824950"
     },
     "user_tz": -330
    },
    "id": "Tsn54qu5Ea01",
    "outputId": "aa85fc2f-c501-4ced-ddca-8b650f1fb315"
   },
   "outputs": [
    {
     "name": "stdout",
     "output_type": "stream",
     "text": [
      "tf.Tensor(\n",
      "[[36 46 96]\n",
      " [85 74 97]\n",
      " [30 46 34]], shape=(3, 3), dtype=int32)\n",
      "tf.Tensor(\n",
      "[[2 1 3]\n",
      " [2 4 3]\n",
      " [2 2 4]], shape=(3, 3), dtype=int32)\n"
     ]
    }
   ],
   "source": [
    "# cols of x1 should match rows of x2\n",
    "x1 = tf.random.uniform([3,3],minval=10,maxval=100,dtype=tf.int32)\n",
    "x2 = tf.random.uniform([3,3],minval=1,maxval=5,dtype=tf.int32)\n",
    "print(x1)\n",
    "print(x2)"
   ]
  },
  {
   "cell_type": "code",
   "execution_count": 130,
   "metadata": {
    "colab": {
     "base_uri": "https://localhost:8080/"
    },
    "executionInfo": {
     "elapsed": 402,
     "status": "ok",
     "timestamp": 1686398729904,
     "user": {
      "displayName": "Sahil Sharma",
      "userId": "07073771831471824950"
     },
     "user_tz": -330
    },
    "id": "8Rwc200wMJuU",
    "outputId": "541ea09b-e44a-4063-9cd1-3ca28d0f1842"
   },
   "outputs": [
    {
     "name": "stdout",
     "output_type": "stream",
     "text": [
      "tf.Tensor(\n",
      "[[356 412 630]\n",
      " [512 575 865]\n",
      " [220 282 364]], shape=(3, 3), dtype=int32)\n"
     ]
    }
   ],
   "source": [
    "print(tf.matmul(x1,x2,))"
   ]
  },
  {
   "cell_type": "code",
   "execution_count": 139,
   "metadata": {
    "colab": {
     "base_uri": "https://localhost:8080/"
    },
    "executionInfo": {
     "elapsed": 462,
     "status": "ok",
     "timestamp": 1686398900435,
     "user": {
      "displayName": "Sahil Sharma",
      "userId": "07073771831471824950"
     },
     "user_tz": -330
    },
    "id": "uVjMyf-GMnpK",
    "outputId": "3d7c11fe-2b07-438c-910d-bbb29dd176cc"
   },
   "outputs": [
    {
     "name": "stdout",
     "output_type": "stream",
     "text": [
      "tf.Tensor(\n",
      "[[87 52 30]\n",
      " [98 37 97]\n",
      " [22 66 15]], shape=(3, 3), dtype=int32)\n",
      "tf.Tensor(\n",
      "[[2 1]\n",
      " [2 4]\n",
      " [3 2]], shape=(3, 2), dtype=int32)\n"
     ]
    }
   ],
   "source": [
    "# cols of x1 should match rows of x2\n",
    "x1 = tf.random.uniform([3,3],minval=10,maxval=100,dtype=tf.int32)\n",
    "x2 = tf.random.uniform([3,2],minval=1,maxval=5,dtype=tf.int32)\n",
    "print(x1)\n",
    "print(x2)"
   ]
  },
  {
   "cell_type": "code",
   "execution_count": 140,
   "metadata": {
    "colab": {
     "base_uri": "https://localhost:8080/"
    },
    "executionInfo": {
     "elapsed": 2,
     "status": "ok",
     "timestamp": 1686398901145,
     "user": {
      "displayName": "Sahil Sharma",
      "userId": "07073771831471824950"
     },
     "user_tz": -330
    },
    "id": "FuwTcTajM1zs",
    "outputId": "58da57e9-1837-4bc4-f017-5710a044f8c8"
   },
   "outputs": [
    {
     "name": "stdout",
     "output_type": "stream",
     "text": [
      "tf.Tensor(\n",
      "[[368 355]\n",
      " [561 440]\n",
      " [221 316]], shape=(3, 2), dtype=int32)\n"
     ]
    }
   ],
   "source": [
    "print(tf.matmul(x1,x2,))"
   ]
  },
  {
   "cell_type": "code",
   "execution_count": 141,
   "metadata": {
    "colab": {
     "base_uri": "https://localhost:8080/"
    },
    "executionInfo": {
     "elapsed": 2,
     "status": "ok",
     "timestamp": 1686398901146,
     "user": {
      "displayName": "Sahil Sharma",
      "userId": "07073771831471824950"
     },
     "user_tz": -330
    },
    "id": "7JQmQwTCM4n6",
    "outputId": "693af650-21a2-4e76-b219-ed382c484ab9"
   },
   "outputs": [
    {
     "name": "stdout",
     "output_type": "stream",
     "text": [
      "tf.Tensor(\n",
      "[[368 355]\n",
      " [561 440]\n",
      " [221 316]], shape=(3, 2), dtype=int32)\n"
     ]
    }
   ],
   "source": [
    "print(x1@x2)"
   ]
  },
  {
   "cell_type": "code",
   "execution_count": 142,
   "metadata": {
    "colab": {
     "base_uri": "https://localhost:8080/"
    },
    "executionInfo": {
     "elapsed": 444,
     "status": "ok",
     "timestamp": 1686398945254,
     "user": {
      "displayName": "Sahil Sharma",
      "userId": "07073771831471824950"
     },
     "user_tz": -330
    },
    "id": "8u1bSAnNNKQB",
    "outputId": "1edcb87b-1ae9-4a08-90f2-fdd55ff30318"
   },
   "outputs": [
    {
     "name": "stdout",
     "output_type": "stream",
     "text": [
      "tf.Tensor(\n",
      "[[40 35 25]\n",
      " [86 65 94]\n",
      " [50 84 46]], shape=(3, 3), dtype=int32)\n",
      "tf.Tensor(\n",
      "[[3 3 1]\n",
      " [2 1 1]], shape=(2, 3), dtype=int32)\n"
     ]
    }
   ],
   "source": [
    "# cols of x1 should match rows of x2\n",
    "x1 = tf.random.uniform([3,3],minval=10,maxval=100,dtype=tf.int32)\n",
    "x2 = tf.random.uniform([2,3],minval=1,maxval=5,dtype=tf.int32)\n",
    "print(x1)\n",
    "print(x2)"
   ]
  },
  {
   "cell_type": "code",
   "execution_count": 143,
   "metadata": {
    "colab": {
     "base_uri": "https://localhost:8080/"
    },
    "executionInfo": {
     "elapsed": 749,
     "status": "ok",
     "timestamp": 1686398960354,
     "user": {
      "displayName": "Sahil Sharma",
      "userId": "07073771831471824950"
     },
     "user_tz": -330
    },
    "id": "8M14_WTSNcNd",
    "outputId": "200e60ed-d500-4fc0-e9c5-47cf9d1e335a"
   },
   "outputs": [
    {
     "name": "stdout",
     "output_type": "stream",
     "text": [
      "tf.Tensor(\n",
      "[[250 140]\n",
      " [547 331]\n",
      " [448 230]], shape=(3, 2), dtype=int32)\n"
     ]
    }
   ],
   "source": [
    "print(x1@tf.transpose(x2))"
   ]
  },
  {
   "cell_type": "markdown",
   "metadata": {
    "id": "W-h_Y_IHRKMd"
   },
   "source": [
    "#### 4.2 band_part():\n",
    "In laymens term, how many diagonals I want to keep is the goal of band part."
   ]
  },
  {
   "cell_type": "code",
   "execution_count": 164,
   "metadata": {
    "colab": {
     "base_uri": "https://localhost:8080/"
    },
    "executionInfo": {
     "elapsed": 481,
     "status": "ok",
     "timestamp": 1686401258306,
     "user": {
      "displayName": "Sahil Sharma",
      "userId": "07073771831471824950"
     },
     "user_tz": -330
    },
    "id": "sJA38GKnNfz6",
    "outputId": "a06e8fad-a63e-4515-ff92-f5b28d4b67df"
   },
   "outputs": [
    {
     "name": "stdout",
     "output_type": "stream",
     "text": [
      "tf.Tensor(\n",
      "[[4 4 1 4 1 3]\n",
      " [3 2 2 2 3 3]\n",
      " [2 1 3 1 4 4]\n",
      " [4 1 1 2 1 3]\n",
      " [2 3 2 1 2 4]\n",
      " [3 4 4 2 2 2]], shape=(6, 6), dtype=int32)\n"
     ]
    }
   ],
   "source": [
    "x = tf.random.uniform([6,6],minval=1,maxval=5,dtype=tf.int32)\n",
    "print(x)"
   ]
  },
  {
   "cell_type": "code",
   "execution_count": 165,
   "metadata": {
    "colab": {
     "base_uri": "https://localhost:8080/"
    },
    "executionInfo": {
     "elapsed": 2,
     "status": "ok",
     "timestamp": 1686401260208,
     "user": {
      "displayName": "Sahil Sharma",
      "userId": "07073771831471824950"
     },
     "user_tz": -330
    },
    "id": "k2_Uicm4Rj9b",
    "outputId": "a3fd772b-0b9f-4837-eaa7-08fe26dec4ae"
   },
   "outputs": [
    {
     "name": "stdout",
     "output_type": "stream",
     "text": [
      "tf.Tensor(\n",
      "[[4 4 0 0 0 0]\n",
      " [0 2 2 0 0 0]\n",
      " [0 0 3 1 0 0]\n",
      " [0 0 0 2 1 0]\n",
      " [0 0 0 0 2 4]\n",
      " [0 0 0 0 0 2]], shape=(6, 6), dtype=int32)\n"
     ]
    }
   ],
   "source": [
    "# keep only one upper diagonal\n",
    "print(tf.linalg.band_part(x,num_lower=0,num_upper=1))"
   ]
  },
  {
   "cell_type": "code",
   "execution_count": 166,
   "metadata": {
    "colab": {
     "base_uri": "https://localhost:8080/"
    },
    "executionInfo": {
     "elapsed": 1,
     "status": "ok",
     "timestamp": 1686401260911,
     "user": {
      "displayName": "Sahil Sharma",
      "userId": "07073771831471824950"
     },
     "user_tz": -330
    },
    "id": "gjeFAq1GSewm",
    "outputId": "6dd92a73-abba-4292-8404-cfcb65f8b0db"
   },
   "outputs": [
    {
     "name": "stdout",
     "output_type": "stream",
     "text": [
      "tf.Tensor(\n",
      "[[4 4 0 0 0 0]\n",
      " [3 2 2 0 0 0]\n",
      " [0 1 3 1 0 0]\n",
      " [0 0 1 2 1 0]\n",
      " [0 0 0 1 2 4]\n",
      " [0 0 0 0 2 2]], shape=(6, 6), dtype=int32)\n"
     ]
    }
   ],
   "source": [
    "# keep only one upper and lower diagonal\n",
    "print(tf.linalg.band_part(x,num_lower=1,num_upper=1))"
   ]
  },
  {
   "cell_type": "code",
   "execution_count": 167,
   "metadata": {
    "colab": {
     "base_uri": "https://localhost:8080/"
    },
    "executionInfo": {
     "elapsed": 3,
     "status": "ok",
     "timestamp": 1686401288006,
     "user": {
      "displayName": "Sahil Sharma",
      "userId": "07073771831471824950"
     },
     "user_tz": -330
    },
    "id": "J9YnZXabWKl4",
    "outputId": "c68f6639-20b6-45ba-f9ee-111c83a48cd9"
   },
   "outputs": [
    {
     "name": "stdout",
     "output_type": "stream",
     "text": [
      "tf.Tensor(\n",
      "[[4 4 1 4 0 0]\n",
      " [3 2 2 2 3 0]\n",
      " [2 1 3 1 4 4]\n",
      " [4 1 1 2 1 3]\n",
      " [0 3 2 1 2 4]\n",
      " [0 0 4 2 2 2]], shape=(6, 6), dtype=int32)\n"
     ]
    }
   ],
   "source": [
    "# keep only 3 upper and lower diagonal\n",
    "print(tf.linalg.band_part(x,num_lower=3,num_upper=3))"
   ]
  },
  {
   "cell_type": "markdown",
   "metadata": {
    "id": "Chlf1zTRW-uz"
   },
   "source": [
    "#### 4.3 Inverse of matrix"
   ]
  },
  {
   "cell_type": "code",
   "execution_count": 168,
   "metadata": {
    "colab": {
     "base_uri": "https://localhost:8080/"
    },
    "executionInfo": {
     "elapsed": 2,
     "status": "ok",
     "timestamp": 1686401461060,
     "user": {
      "displayName": "Sahil Sharma",
      "userId": "07073771831471824950"
     },
     "user_tz": -330
    },
    "id": "no8lxBlQWYQS",
    "outputId": "3a114a77-dc50-4229-8e75-f89db0104488"
   },
   "outputs": [
    {
     "name": "stdout",
     "output_type": "stream",
     "text": [
      "tf.Tensor(\n",
      "[[4 4 1 4 1 3]\n",
      " [3 2 2 2 3 3]\n",
      " [2 1 3 1 4 4]\n",
      " [4 1 1 2 1 3]\n",
      " [2 3 2 1 2 4]\n",
      " [3 4 4 2 2 2]], shape=(6, 6), dtype=int32)\n"
     ]
    }
   ],
   "source": [
    "print(x)"
   ]
  },
  {
   "cell_type": "code",
   "execution_count": 170,
   "metadata": {
    "colab": {
     "base_uri": "https://localhost:8080/"
    },
    "executionInfo": {
     "elapsed": 2,
     "status": "ok",
     "timestamp": 1686401567794,
     "user": {
      "displayName": "Sahil Sharma",
      "userId": "07073771831471824950"
     },
     "user_tz": -330
    },
    "id": "TQKa5SFCXCZv",
    "outputId": "a599a8fc-92b4-4aa2-dbd0-732d7501317b"
   },
   "outputs": [
    {
     "name": "stdout",
     "output_type": "stream",
     "text": [
      "tf.Tensor(\n",
      "[[-0.45652175  0.7608694  -0.63043475  0.34782612  0.10869564  0.06521741]\n",
      " [-0.15217397  0.5869563  -0.5434782  -0.2173913   0.36956522  0.02173917]\n",
      " [ 0.14130439 -0.90217376  0.57608694  0.13043478 -0.27173913  0.3369565 ]\n",
      " [ 0.72826093 -0.88043445  0.81521726 -0.17391306 -0.5543478  -0.03260875]\n",
      " [-0.2228261   1.0380434  -0.33152172 -0.28260872  0.00543477 -0.14673913]\n",
      " [ 0.20108697 -0.66847825  0.39673916  0.10869565  0.19021739 -0.13586956]], shape=(6, 6), dtype=float32)\n"
     ]
    }
   ],
   "source": [
    "print(tf.linalg.inv(tf.cast(x,tf.float32)))"
   ]
  },
  {
   "cell_type": "markdown",
   "metadata": {
    "id": "EPl0BZUlYopI"
   },
   "source": [
    "#### 4.4 einsum()\n",
    "equation= ij,jk->ik\n",
    "\n",
    "We can apply any condition on the two matrics."
   ]
  },
  {
   "cell_type": "code",
   "execution_count": 175,
   "metadata": {
    "colab": {
     "base_uri": "https://localhost:8080/"
    },
    "executionInfo": {
     "elapsed": 427,
     "status": "ok",
     "timestamp": 1686402428968,
     "user": {
      "displayName": "Sahil Sharma",
      "userId": "07073771831471824950"
     },
     "user_tz": -330
    },
    "id": "9H0N5CSxXIve",
    "outputId": "0f358ff7-6ff7-4972-ac32-1d3846909e30"
   },
   "outputs": [
    {
     "name": "stdout",
     "output_type": "stream",
     "text": [
      "tf.Tensor(\n",
      "[[11 11 11 13 12]\n",
      " [14 10 13 11 12]\n",
      " [13 14 13 13 10]], shape=(3, 5), dtype=int32)\n",
      "tf.Tensor(\n",
      "[[2 2 2 1 2 2]\n",
      " [1 2 1 1 1 1]\n",
      " [2 1 2 2 2 1]\n",
      " [2 2 2 2 1 2]\n",
      " [2 2 1 2 1 1]], shape=(5, 6), dtype=int32)\n"
     ]
    }
   ],
   "source": [
    "# 1. Matrix of different shape\n",
    "# einsum multiplies the matrix in the same way as we multiply using matmul, cols of first should match with rows of 2nd.\n",
    "x1 = tf.random.uniform([3,5],minval=10,maxval=15,dtype=tf.int32)\n",
    "x2 = tf.random.uniform([5,6],minval=1,maxval=3,dtype=tf.int32)\n",
    "print(x1)\n",
    "print(x2)"
   ]
  },
  {
   "cell_type": "code",
   "execution_count": 176,
   "metadata": {
    "colab": {
     "base_uri": "https://localhost:8080/"
    },
    "executionInfo": {
     "elapsed": 2,
     "status": "ok",
     "timestamp": 1686402430865,
     "user": {
      "displayName": "Sahil Sharma",
      "userId": "07073771831471824950"
     },
     "user_tz": -330
    },
    "id": "ueQ8zdxjZkaJ",
    "outputId": "a7596466-7d96-4613-ab26-826bdb65a504"
   },
   "outputs": [
    {
     "data": {
      "text/plain": [
       "<tf.Tensor: shape=(3, 6), dtype=int32, numpy=\n",
       "array([[105, 105,  93,  94,  80,  82],\n",
       "       [110, 107,  98,  96,  87,  85],\n",
       "       [112, 113, 102,  99,  89,  89]], dtype=int32)>"
      ]
     },
     "execution_count": 176,
     "metadata": {},
     "output_type": "execute_result"
    }
   ],
   "source": [
    "tf.einsum(\"ij,jk->ik\",x1,x2)"
   ]
  },
  {
   "cell_type": "code",
   "execution_count": 177,
   "metadata": {
    "colab": {
     "base_uri": "https://localhost:8080/"
    },
    "executionInfo": {
     "elapsed": 725,
     "status": "ok",
     "timestamp": 1686402454512,
     "user": {
      "displayName": "Sahil Sharma",
      "userId": "07073771831471824950"
     },
     "user_tz": -330
    },
    "id": "yxgETHtRaAjX",
    "outputId": "768fb580-4a19-4be3-ec7c-a1f47e384a2c"
   },
   "outputs": [
    {
     "name": "stdout",
     "output_type": "stream",
     "text": [
      "tf.Tensor(\n",
      "[[11 14 10]\n",
      " [12 14 11]\n",
      " [13 13 14]], shape=(3, 3), dtype=int32)\n",
      "tf.Tensor(\n",
      "[[1 2 1]\n",
      " [1 2 2]\n",
      " [1 1 2]], shape=(3, 3), dtype=int32)\n"
     ]
    }
   ],
   "source": [
    "# 2. Matrix of same shape\n",
    "x1 = tf.random.uniform([3,3],minval=10,maxval=15,dtype=tf.int32)\n",
    "x2 = tf.random.uniform([3,3],minval=1,maxval=3,dtype=tf.int32)\n",
    "print(x1)\n",
    "print(x2)"
   ]
  },
  {
   "cell_type": "code",
   "execution_count": 181,
   "metadata": {
    "colab": {
     "base_uri": "https://localhost:8080/"
    },
    "executionInfo": {
     "elapsed": 433,
     "status": "ok",
     "timestamp": 1686402522487,
     "user": {
      "displayName": "Sahil Sharma",
      "userId": "07073771831471824950"
     },
     "user_tz": -330
    },
    "id": "SJFMH8SBa029",
    "outputId": "eccf96cf-052a-4cc2-b94d-ebbdf4d6dada"
   },
   "outputs": [
    {
     "data": {
      "text/plain": [
       "<tf.Tensor: shape=(3, 3), dtype=int32, numpy=\n",
       "array([[11, 28, 10],\n",
       "       [12, 28, 22],\n",
       "       [13, 13, 28]], dtype=int32)>"
      ]
     },
     "execution_count": 181,
     "metadata": {},
     "output_type": "execute_result"
    }
   ],
   "source": [
    "tf.einsum(\"ij,ij->ij\",x1,x2) # the equations works like a formula"
   ]
  },
  {
   "cell_type": "code",
   "execution_count": 186,
   "metadata": {
    "colab": {
     "base_uri": "https://localhost:8080/"
    },
    "executionInfo": {
     "elapsed": 498,
     "status": "ok",
     "timestamp": 1686402636135,
     "user": {
      "displayName": "Sahil Sharma",
      "userId": "07073771831471824950"
     },
     "user_tz": -330
    },
    "id": "hetFq3QUa2IZ",
    "outputId": "182754cb-1fd3-4105-9dd3-b88801e385e9"
   },
   "outputs": [
    {
     "name": "stdout",
     "output_type": "stream",
     "text": [
      "tf.Tensor(\n",
      "[[11 12 13]\n",
      " [14 14 13]\n",
      " [10 11 14]], shape=(3, 3), dtype=int32)\n"
     ]
    }
   ],
   "source": [
    "# 3. Transposing using formula\n",
    "print(tf.transpose(x1))"
   ]
  },
  {
   "cell_type": "code",
   "execution_count": 189,
   "metadata": {
    "colab": {
     "base_uri": "https://localhost:8080/"
    },
    "executionInfo": {
     "elapsed": 1,
     "status": "ok",
     "timestamp": 1686402677037,
     "user": {
      "displayName": "Sahil Sharma",
      "userId": "07073771831471824950"
     },
     "user_tz": -330
    },
    "id": "J1re3Fg0a67t",
    "outputId": "6797cb88-bc99-4d80-c301-1ee81f8634d1"
   },
   "outputs": [
    {
     "data": {
      "text/plain": [
       "<tf.Tensor: shape=(3, 3), dtype=int32, numpy=\n",
       "array([[11, 12, 13],\n",
       "       [14, 14, 13],\n",
       "       [10, 11, 14]], dtype=int32)>"
      ]
     },
     "execution_count": 189,
     "metadata": {},
     "output_type": "execute_result"
    }
   ],
   "source": [
    "tf.einsum(\"ij->ji\",x1)"
   ]
  },
  {
   "cell_type": "code",
   "execution_count": 195,
   "metadata": {
    "colab": {
     "base_uri": "https://localhost:8080/"
    },
    "executionInfo": {
     "elapsed": 468,
     "status": "ok",
     "timestamp": 1686403266602,
     "user": {
      "displayName": "Sahil Sharma",
      "userId": "07073771831471824950"
     },
     "user_tz": -330
    },
    "id": "DN_mfU0Pbip9",
    "outputId": "fe5a0427-3aa3-4770-d842-b09f518f1b6e"
   },
   "outputs": [
    {
     "name": "stdout",
     "output_type": "stream",
     "text": [
      "tf.Tensor(\n",
      "[[[12 12 14]\n",
      "  [12 13 14]]\n",
      "\n",
      " [[12 12 14]\n",
      "  [13 12 13]]], shape=(2, 2, 3), dtype=int32)\n",
      "tf.Tensor(\n",
      "[[[1 2 1]\n",
      "  [1 1 2]\n",
      "  [2 2 1]]\n",
      "\n",
      " [[1 1 1]\n",
      "  [2 1 2]\n",
      "  [1 2 2]]], shape=(2, 3, 3), dtype=int32)\n"
     ]
    }
   ],
   "source": [
    "# 4. Batch Multiplication using Einsum (important): Many times we have batch of data, that we may want to take as a output of multiplication.\n",
    "# Imagine each matrix in a tensor belong to a single batch.\n",
    "# Multiply Batch1 Matrix with Batch2 matrix i.e. first matrix of tensor1 to first matrix of tensor2.\n",
    "# \n",
    "x1 = tf.random.uniform([2,2,3],minval=10,maxval=15,dtype=tf.int32)\n",
    "x2 = tf.random.uniform([2,3,3],minval=1,maxval=3,dtype=tf.int32)\n",
    "print(x1)\n",
    "print(x2)"
   ]
  },
  {
   "cell_type": "code",
   "execution_count": 200,
   "metadata": {
    "colab": {
     "base_uri": "https://localhost:8080/"
    },
    "executionInfo": {
     "elapsed": 494,
     "status": "ok",
     "timestamp": 1686403475365,
     "user": {
      "displayName": "Sahil Sharma",
      "userId": "07073771831471824950"
     },
     "user_tz": -330
    },
    "id": "1hvnlUvPcViR",
    "outputId": "f1c0cae1-4ce5-42c4-87c8-f42f3ccbc694"
   },
   "outputs": [
    {
     "data": {
      "text/plain": [
       "<tf.Tensor: shape=(2, 2, 3), dtype=int32, numpy=\n",
       "array([[[52, 64, 50],\n",
       "        [53, 65, 52]],\n",
       "\n",
       "       [[50, 52, 64],\n",
       "        [50, 51, 63]]], dtype=int32)>"
      ]
     },
     "execution_count": 200,
     "metadata": {},
     "output_type": "execute_result"
    }
   ],
   "source": [
    "tf.einsum(\"bij,bjk->bik\",x1,x2)"
   ]
  },
  {
   "cell_type": "code",
   "execution_count": 201,
   "metadata": {
    "colab": {
     "base_uri": "https://localhost:8080/"
    },
    "executionInfo": {
     "elapsed": 1,
     "status": "ok",
     "timestamp": 1686404069001,
     "user": {
      "displayName": "Sahil Sharma",
      "userId": "07073771831471824950"
     },
     "user_tz": -330
    },
    "id": "nCzH9J2leDgN",
    "outputId": "75d74b80-ebe5-4da9-eb3f-414043ed1f44"
   },
   "outputs": [
    {
     "data": {
      "text/plain": [
       "<tf.Tensor: shape=(2,), dtype=int32, numpy=array([336, 330], dtype=int32)>"
      ]
     },
     "execution_count": 201,
     "metadata": {},
     "output_type": "execute_result"
    }
   ],
   "source": [
    "tf.einsum(\"bij,bjk->b\",x1,x2)"
   ]
  },
  {
   "cell_type": "code",
   "execution_count": 213,
   "metadata": {
    "colab": {
     "base_uri": "https://localhost:8080/"
    },
    "executionInfo": {
     "elapsed": 476,
     "status": "ok",
     "timestamp": 1686405654082,
     "user": {
      "displayName": "Sahil Sharma",
      "userId": "07073771831471824950"
     },
     "user_tz": -330
    },
    "id": "ZQR-Mvjig_I_",
    "outputId": "cb66fc49-6d71-40b7-a7f6-b0a701f2b776"
   },
   "outputs": [
    {
     "name": "stdout",
     "output_type": "stream",
     "text": [
      "tf.Tensor(\n",
      "[[2 1 1 2 1 2 2 1 1 1]\n",
      " [1 2 2 1 1 2 1 2 1 1]], shape=(2, 10), dtype=int32)\n"
     ]
    }
   ],
   "source": [
    "# sum \n",
    "x1 = tf.random.uniform([2,10],minval=1,maxval=3,dtype=tf.int32)\n",
    "print(x1)"
   ]
  },
  {
   "cell_type": "code",
   "execution_count": 215,
   "metadata": {
    "colab": {
     "base_uri": "https://localhost:8080/"
    },
    "executionInfo": {
     "elapsed": 440,
     "status": "ok",
     "timestamp": 1686405660616,
     "user": {
      "displayName": "Sahil Sharma",
      "userId": "07073771831471824950"
     },
     "user_tz": -330
    },
    "id": "ilBmaP2Amuf-",
    "outputId": "fe709086-7a53-4e29-a408-ec37ab30a209"
   },
   "outputs": [
    {
     "name": "stdout",
     "output_type": "stream",
     "text": [
      "tf.Tensor([14 14], shape=(2,), dtype=int32)\n"
     ]
    }
   ],
   "source": [
    "print(tf.einsum(\"ij->i\",x1))"
   ]
  },
  {
   "cell_type": "code",
   "execution_count": 216,
   "metadata": {
    "colab": {
     "base_uri": "https://localhost:8080/"
    },
    "executionInfo": {
     "elapsed": 436,
     "status": "ok",
     "timestamp": 1686405669708,
     "user": {
      "displayName": "Sahil Sharma",
      "userId": "07073771831471824950"
     },
     "user_tz": -330
    },
    "id": "QI3K6BZdnCm5",
    "outputId": "8a06a696-7bdb-4e4d-d9d7-8330d604652b"
   },
   "outputs": [
    {
     "name": "stdout",
     "output_type": "stream",
     "text": [
      "tf.Tensor([3 3 3 3 2 4 3 3 2 2], shape=(10,), dtype=int32)\n"
     ]
    }
   ],
   "source": [
    "print(tf.einsum(\"ij->j\",x1))"
   ]
  },
  {
   "cell_type": "markdown",
   "metadata": {
    "id": "FiS9cXybo6im"
   },
   "source": [
    "1. Application of Einsum()"
   ]
  },
  {
   "cell_type": "code",
   "execution_count": 228,
   "metadata": {
    "executionInfo": {
     "elapsed": 542,
     "status": "ok",
     "timestamp": 1686406988493,
     "user": {
      "displayName": "Sahil Sharma",
      "userId": "07073771831471824950"
     },
     "user_tz": -330
    },
    "id": "-c3RYSvMnF7S"
   },
   "outputs": [],
   "source": [
    "batch_size = 1\n",
    "number_of_chunks = 4\n",
    "rows = 4\n",
    "columns1 = 2\n",
    "columns2 = 1"
   ]
  },
  {
   "cell_type": "code",
   "execution_count": 236,
   "metadata": {
    "executionInfo": {
     "elapsed": 445,
     "status": "ok",
     "timestamp": 1686407306525,
     "user": {
      "displayName": "Sahil Sharma",
      "userId": "07073771831471824950"
     },
     "user_tz": -330
    },
    "id": "rmVfApT5p7u2"
   },
   "outputs": [],
   "source": [
    "A = np.random.randn(batch_size,number_of_chunks,rows,columns1)\n",
    "B = np.random.randn(batch_size,number_of_chunks,rows,columns2)"
   ]
  },
  {
   "cell_type": "code",
   "execution_count": 230,
   "metadata": {
    "colab": {
     "base_uri": "https://localhost:8080/"
    },
    "executionInfo": {
     "elapsed": 788,
     "status": "ok",
     "timestamp": 1686407009766,
     "user": {
      "displayName": "Sahil Sharma",
      "userId": "07073771831471824950"
     },
     "user_tz": -330
    },
    "id": "9bKAGpEPrO_K",
    "outputId": "1ca15a80-6ed4-4ff5-eff7-1f1c89a9ec54"
   },
   "outputs": [
    {
     "data": {
      "text/plain": [
       "array([[[[-0.80524012,  0.16560919],\n",
       "         [ 0.81443522,  0.68520874],\n",
       "         [ 1.79808516,  0.81900981],\n",
       "         [ 0.45942008, -0.41169542]],\n",
       "\n",
       "        [[-1.07485744, -2.01839554],\n",
       "         [-1.64632884, -0.60038926],\n",
       "         [-1.64568096,  0.48395846],\n",
       "         [ 0.99971147, -0.15742493]],\n",
       "\n",
       "        [[-1.48421678, -0.77430113],\n",
       "         [ 0.00651865, -0.31882779],\n",
       "         [ 0.42736094,  1.53216017],\n",
       "         [-1.63834055, -1.93885229]],\n",
       "\n",
       "        [[ 0.81818315,  0.74138491],\n",
       "         [-0.28143095, -0.49754401],\n",
       "         [ 1.99424078,  0.53949728],\n",
       "         [ 1.70829167, -0.80156611]]]])"
      ]
     },
     "execution_count": 230,
     "metadata": {},
     "output_type": "execute_result"
    }
   ],
   "source": [
    "A"
   ]
  },
  {
   "cell_type": "code",
   "execution_count": 232,
   "metadata": {
    "colab": {
     "base_uri": "https://localhost:8080/"
    },
    "executionInfo": {
     "elapsed": 3,
     "status": "ok",
     "timestamp": 1686407016791,
     "user": {
      "displayName": "Sahil Sharma",
      "userId": "07073771831471824950"
     },
     "user_tz": -330
    },
    "id": "59b1Ott7sM5H",
    "outputId": "ae076082-4e81-43ce-9183-4fce78044441"
   },
   "outputs": [
    {
     "data": {
      "text/plain": [
       "array([[[[-0.46462467],\n",
       "         [ 0.90393364],\n",
       "         [ 0.74246765],\n",
       "         [ 0.01046169]],\n",
       "\n",
       "        [[-0.53689652],\n",
       "         [-0.6268036 ],\n",
       "         [ 0.57353828],\n",
       "         [-0.5032356 ]],\n",
       "\n",
       "        [[ 1.66079574],\n",
       "         [-1.15045989],\n",
       "         [-0.82298136],\n",
       "         [ 0.49389697]],\n",
       "\n",
       "        [[-0.03537288],\n",
       "         [-1.03682356],\n",
       "         [-1.03363025],\n",
       "         [ 1.7026219 ]]]])"
      ]
     },
     "execution_count": 232,
     "metadata": {},
     "output_type": "execute_result"
    }
   ],
   "source": [
    "B"
   ]
  },
  {
   "cell_type": "code",
   "execution_count": 241,
   "metadata": {
    "colab": {
     "base_uri": "https://localhost:8080/"
    },
    "executionInfo": {
     "elapsed": 454,
     "status": "ok",
     "timestamp": 1686407454508,
     "user": {
      "displayName": "Sahil Sharma",
      "userId": "07073771831471824950"
     },
     "user_tz": -330
    },
    "id": "j1tnE66TsNKU",
    "outputId": "fb530049-dd93-44e6-fb6a-3f2d4cff6327"
   },
   "outputs": [
    {
     "data": {
      "text/plain": [
       "<tf.Tensor: shape=(1, 4, 2, 1), dtype=float64, numpy=\n",
       "array([[[[ 2.44025552],\n",
       "         [-0.60046364]],\n",
       "\n",
       "        [[-0.16903664],\n",
       "         [-2.3116326 ]],\n",
       "\n",
       "        [[-1.11589529],\n",
       "         [-1.58127869]],\n",
       "\n",
       "        [[ 5.1736586 ],\n",
       "         [-1.12144608]]]])>"
      ]
     },
     "execution_count": 241,
     "metadata": {},
     "output_type": "execute_result"
    }
   ],
   "source": [
    "# bcij\n",
    "tf.einsum(\"bcik,bcij->bckj\",A,B)"
   ]
  },
  {
   "cell_type": "markdown",
   "metadata": {
    "id": "DiSWnJX87gkM"
   },
   "source": [
    "### 5.**Ragged Tensors**"
   ]
  },
  {
   "cell_type": "code",
   "execution_count": 245,
   "metadata": {
    "colab": {
     "base_uri": "https://localhost:8080/"
    },
    "executionInfo": {
     "elapsed": 468,
     "status": "ok",
     "timestamp": 1686411633969,
     "user": {
      "displayName": "Sahil Sharma",
      "userId": "07073771831471824950"
     },
     "user_tz": -330
    },
    "id": "wZnzhAznsq-g",
    "outputId": "5bdb42ad-e4b5-4757-d207-b38a48eaac5f"
   },
   "outputs": [
    {
     "name": "stdout",
     "output_type": "stream",
     "text": [
      "<tf.RaggedTensor [[1.0], [233.23, 24.0, 3.0, 1.0, 34.0], [4.9, 42.0, 24.0, 2.0],\n",
      " [23.0, 32.0]]>\n"
     ]
    }
   ],
   "source": [
    "# Tensors are required to be in rectanuglar shape else there arises errors.\n",
    "# ans sometimes we may have tensors not in the proper shape, to handle this we use ragged tensors.\n",
    "\n",
    "ragged_tensor = tf.ragged.constant([[1],\n",
    "                                   [233.23,24,3,1,34],\n",
    "                                   [4.9,42,24,2],\n",
    "                                   [23,32.0]])\n",
    "print(ragged_tensor)"
   ]
  },
  {
   "cell_type": "code",
   "execution_count": 247,
   "metadata": {
    "colab": {
     "base_uri": "https://localhost:8080/"
    },
    "executionInfo": {
     "elapsed": 622,
     "status": "ok",
     "timestamp": 1686411677262,
     "user": {
      "displayName": "Sahil Sharma",
      "userId": "07073771831471824950"
     },
     "user_tz": -330
    },
    "id": "VwT4kCi99teb",
    "outputId": "04cf2cb7-840c-4514-8606-931568156d5b"
   },
   "outputs": [
    {
     "data": {
      "text/plain": [
       "TensorShape([4, None])"
      ]
     },
     "execution_count": 247,
     "metadata": {},
     "output_type": "execute_result"
    }
   ],
   "source": [
    "# None in the columns due to improper shape of the columns.\n",
    "ragged_tensor.shape"
   ]
  },
  {
   "cell_type": "code",
   "execution_count": 250,
   "metadata": {
    "colab": {
     "base_uri": "https://localhost:8080/"
    },
    "executionInfo": {
     "elapsed": 497,
     "status": "ok",
     "timestamp": 1686412178163,
     "user": {
      "displayName": "Sahil Sharma",
      "userId": "07073771831471824950"
     },
     "user_tz": -330
    },
    "id": "5y_Z1Sk_94QT",
    "outputId": "59c11fc2-1861-4b43-e480-0083152d47e6"
   },
   "outputs": [
    {
     "data": {
      "text/plain": [
       "array([6, 9])"
      ]
     },
     "execution_count": 250,
     "metadata": {},
     "output_type": "execute_result"
    }
   ],
   "source": [
    "# from bounding shape: column will become the longest length array\n",
    "rt = tf.ragged.constant([[1, 2, 3, 4], \n",
    "                          [5], \n",
    "                          [], \n",
    "                          [6, 7, 8, 9], \n",
    "                          [10],\n",
    "                          [2,3,2,1,3,2,1,3,2]\n",
    "                         ])\n",
    "rt.bounding_shape().numpy()\n"
   ]
  },
  {
   "cell_type": "code",
   "execution_count": 255,
   "metadata": {
    "colab": {
     "base_uri": "https://localhost:8080/"
    },
    "executionInfo": {
     "elapsed": 671,
     "status": "ok",
     "timestamp": 1686412568912,
     "user": {
      "displayName": "Sahil Sharma",
      "userId": "07073771831471824950"
     },
     "user_tz": -330
    },
    "id": "nRnftdOG_gVP",
    "outputId": "908f454d-d8e6-45e9-cfd9-6afdac628387"
   },
   "outputs": [
    {
     "name": "stdout",
     "output_type": "stream",
     "text": [
      "<tf.RaggedTensor [[1, 23], [1, 12, 32, 1], [4, 31], [3], [1, 3, 4, 1], [2]]>\n"
     ]
    }
   ],
   "source": [
    "# from row_lengths\n",
    "rt = tf.RaggedTensor.from_row_lengths(\n",
    "                              values=[1,23,1,12,32,1,4,31,3,1,3,4,1,2],\n",
    "                              row_lengths=[2,4,2,1,4,1]\n",
    ")\n",
    "print(rt)"
   ]
  },
  {
   "cell_type": "markdown",
   "metadata": {
    "id": "EVt9jli5CYG-"
   },
   "source": [
    "### 6. **Sparse Tensors**\n",
    "- Indices: the indices where the values are to be put.\n",
    "- Values: the values that are being put.\n",
    "- dense_shape: the shape of the actual matrix"
   ]
  },
  {
   "cell_type": "code",
   "execution_count": 269,
   "metadata": {
    "colab": {
     "base_uri": "https://localhost:8080/"
    },
    "executionInfo": {
     "elapsed": 479,
     "status": "ok",
     "timestamp": 1686413468391,
     "user": {
      "displayName": "Sahil Sharma",
      "userId": "07073771831471824950"
     },
     "user_tz": -330
    },
    "id": "RPi8wnFBBEmA",
    "outputId": "c7f2979c-a7e4-4367-d415-7f4d2e010800"
   },
   "outputs": [
    {
     "name": "stdout",
     "output_type": "stream",
     "text": [
      "SparseTensor(indices=tf.Tensor(\n",
      "[[0 0]\n",
      " [1 2]], shape=(2, 2), dtype=int64), values=tf.Tensor([ 100.1212 1921.123 ], shape=(2,), dtype=float32), dense_shape=tf.Tensor([4 4], shape=(2,), dtype=int64))\n"
     ]
    }
   ],
   "source": [
    "st = tf.SparseTensor(\n",
    "  indices=[[0, 0], [1, 2]], values=[100.1212, 1921.123], dense_shape=[4,4])\n",
    "print(st)"
   ]
  },
  {
   "cell_type": "code",
   "execution_count": 270,
   "metadata": {
    "colab": {
     "base_uri": "https://localhost:8080/"
    },
    "executionInfo": {
     "elapsed": 531,
     "status": "ok",
     "timestamp": 1686413471054,
     "user": {
      "displayName": "Sahil Sharma",
      "userId": "07073771831471824950"
     },
     "user_tz": -330
    },
    "id": "ylEsZ8yyDTM_",
    "outputId": "4c13baa0-72c4-4e9c-fff3-25e5d58d061d"
   },
   "outputs": [
    {
     "data": {
      "text/plain": [
       "<tf.Tensor: shape=(4, 4), dtype=float32, numpy=\n",
       "array([[ 100.1212,    0.    ,    0.    ,    0.    ],\n",
       "       [   0.    ,    0.    , 1921.123 ,    0.    ],\n",
       "       [   0.    ,    0.    ,    0.    ,    0.    ],\n",
       "       [   0.    ,    0.    ,    0.    ,    0.    ]], dtype=float32)>"
      ]
     },
     "execution_count": 270,
     "metadata": {},
     "output_type": "execute_result"
    }
   ],
   "source": [
    "# from sparse to dense\n",
    "tf.sparse.to_dense(st)"
   ]
  },
  {
   "cell_type": "markdown",
   "metadata": {
    "id": "7if_KONLFCAC"
   },
   "source": [
    "### 6.**String Tensors**"
   ]
  },
  {
   "cell_type": "code",
   "execution_count": 272,
   "metadata": {
    "colab": {
     "base_uri": "https://localhost:8080/"
    },
    "executionInfo": {
     "elapsed": 477,
     "status": "ok",
     "timestamp": 1686413612457,
     "user": {
      "displayName": "Sahil Sharma",
      "userId": "07073771831471824950"
     },
     "user_tz": -330
    },
    "id": "mBsk4x-UD1bV",
    "outputId": "b10d3f24-120e-4f7b-8f08-077f7db0719f"
   },
   "outputs": [
    {
     "name": "stdout",
     "output_type": "stream",
     "text": [
      "tf.Tensor([b'hello' b'world' b'!'], shape=(3,), dtype=string)\n"
     ]
    }
   ],
   "source": [
    "string_tensor = tf.constant(['hello','world','!'])\n",
    "print(string_tensor)"
   ]
  },
  {
   "cell_type": "markdown",
   "metadata": {
    "id": "eurRuWGeGvEH"
   },
   "source": [
    "### 7. **Variables**"
   ]
  },
  {
   "cell_type": "code",
   "execution_count": 273,
   "metadata": {
    "colab": {
     "base_uri": "https://localhost:8080/"
    },
    "executionInfo": {
     "elapsed": 5,
     "status": "ok",
     "timestamp": 1686414024819,
     "user": {
      "displayName": "Sahil Sharma",
      "userId": "07073771831471824950"
     },
     "user_tz": -330
    },
    "id": "0cQ5-ZunFW3P",
    "outputId": "a5d2d91d-adcc-42f2-c8cf-96be21ba5e86"
   },
   "outputs": [
    {
     "name": "stdout",
     "output_type": "stream",
     "text": [
      "<tf.Variable 'Variable:0' shape=(2,) dtype=int32, numpy=array([1, 2], dtype=int32)>\n"
     ]
    }
   ],
   "source": [
    "x = tf.constant([1,2])\n",
    "tf_var = tf.Variable(x)\n",
    "print(tf_var)"
   ]
  },
  {
   "cell_type": "code",
   "execution_count": 274,
   "metadata": {
    "colab": {
     "base_uri": "https://localhost:8080/"
    },
    "executionInfo": {
     "elapsed": 652,
     "status": "ok",
     "timestamp": 1686414043169,
     "user": {
      "displayName": "Sahil Sharma",
      "userId": "07073771831471824950"
     },
     "user_tz": -330
    },
    "id": "3Z3P0LQVG9f0",
    "outputId": "ea95b36c-bb9e-460c-a78b-2c134ca77b16"
   },
   "outputs": [
    {
     "data": {
      "text/plain": [
       "<tf.Variable 'UnreadVariable' shape=(2,) dtype=int32, numpy=array([ 6, 10], dtype=int32)>"
      ]
     },
     "execution_count": 274,
     "metadata": {},
     "output_type": "execute_result"
    }
   ],
   "source": [
    "tf_var.assign_add([5,8])"
   ]
  },
  {
   "cell_type": "code",
   "execution_count": 275,
   "metadata": {
    "colab": {
     "base_uri": "https://localhost:8080/"
    },
    "executionInfo": {
     "elapsed": 508,
     "status": "ok",
     "timestamp": 1686414062896,
     "user": {
      "displayName": "Sahil Sharma",
      "userId": "07073771831471824950"
     },
     "user_tz": -330
    },
    "id": "vOs2Y00UHCKz",
    "outputId": "cd09d4f7-06f2-4957-9c77-ed8d76754936"
   },
   "outputs": [
    {
     "data": {
      "text/plain": [
       "<tf.Variable 'Variable:0' shape=(2,) dtype=int32, numpy=array([ 6, 10], dtype=int32)>"
      ]
     },
     "execution_count": 275,
     "metadata": {},
     "output_type": "execute_result"
    }
   ],
   "source": [
    "tf_var"
   ]
  },
  {
   "cell_type": "code",
   "execution_count": 277,
   "metadata": {
    "colab": {
     "base_uri": "https://localhost:8080/"
    },
    "executionInfo": {
     "elapsed": 574,
     "status": "ok",
     "timestamp": 1686414105193,
     "user": {
      "displayName": "Sahil Sharma",
      "userId": "07073771831471824950"
     },
     "user_tz": -330
    },
    "id": "9rsJcXDYHGr4",
    "outputId": "b81826c5-010c-4b8e-d838-b6b6c70b749e"
   },
   "outputs": [
    {
     "data": {
      "text/plain": [
       "<tf.Variable 'UnreadVariable' shape=(2,) dtype=int32, numpy=array([  5, -90], dtype=int32)>"
      ]
     },
     "execution_count": 277,
     "metadata": {},
     "output_type": "execute_result"
    }
   ],
   "source": [
    "tf_var.assign_sub([1,100])"
   ]
  },
  {
   "cell_type": "code",
   "execution_count": 278,
   "metadata": {
    "colab": {
     "base_uri": "https://localhost:8080/"
    },
    "executionInfo": {
     "elapsed": 729,
     "status": "ok",
     "timestamp": 1686414226019,
     "user": {
      "displayName": "Sahil Sharma",
      "userId": "07073771831471824950"
     },
     "user_tz": -330
    },
    "id": "DfyZhfYEHPfQ",
    "outputId": "f3b7e455-928e-4451-d610-a9adf4331863"
   },
   "outputs": [
    {
     "name": "stdout",
     "output_type": "stream",
     "text": [
      "tf.Tensor([1 3 4], shape=(3,), dtype=int32) /job:localhost/replica:0/task:0/device:CPU:0\n",
      "tf.Tensor([1], shape=(1,), dtype=int32) /job:localhost/replica:0/task:0/device:CPU:0\n",
      "tf.Tensor([2 4 5], shape=(3,), dtype=int32) /job:localhost/replica:0/task:0/device:CPU:0\n"
     ]
    }
   ],
   "source": [
    "with tf.device('CPU:0'):\n",
    "  x_1 = tf.constant([1,3,4])\n",
    "  x_2 = tf.constant([1])\n",
    "  \n",
    "with tf.device('GPU:0'):\n",
    "  x_3 = x_1 + x_2\n",
    "\n",
    "print(x_1, x_1.device)\n",
    "print(x_2, x_2.device)\n",
    "print(x_3, x_3.device)"
   ]
  },
  {
   "cell_type": "code",
   "execution_count": null,
   "metadata": {
    "id": "0VZNOxaQHuxs"
   },
   "outputs": [],
   "source": []
  }
 ],
 "metadata": {
  "colab": {
   "authorship_tag": "ABX9TyPaX8TQcNeG+YOFLW3wMplm",
   "provenance": [],
   "toc_visible": true
  },
  "kernelspec": {
   "display_name": "Python 3 (ipykernel)",
   "language": "python",
   "name": "python3"
  },
  "language_info": {
   "codemirror_mode": {
    "name": "ipython",
    "version": 3
   },
   "file_extension": ".py",
   "mimetype": "text/x-python",
   "name": "python",
   "nbconvert_exporter": "python",
   "pygments_lexer": "ipython3",
   "version": "3.8.8"
  }
 },
 "nbformat": 4,
 "nbformat_minor": 1
}
